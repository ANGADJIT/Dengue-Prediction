{
 "cells": [
  {
   "cell_type": "markdown",
   "source": [
    "# Eda On Dengue Dataset"
   ],
   "metadata": {}
  },
  {
   "cell_type": "markdown",
   "source": [
    "### Importing important libraries"
   ],
   "metadata": {}
  },
  {
   "cell_type": "code",
   "execution_count": 1,
   "source": [
    "import numpy as np\r\n",
    "import pandas as pd\r\n",
    "import matplotlib.pyplot as plt\r\n",
    "import seaborn as sns"
   ],
   "outputs": [],
   "metadata": {}
  },
  {
   "cell_type": "code",
   "execution_count": 3,
   "source": [
    "pd.set_option('display.max_columns',None)"
   ],
   "outputs": [],
   "metadata": {}
  },
  {
   "cell_type": "markdown",
   "source": [
    "### Let's load data into dataframe"
   ],
   "metadata": {}
  },
  {
   "cell_type": "code",
   "execution_count": 4,
   "source": [
    "df = pd.read_csv('../data/raw_data/dengue.csv')\r\n",
    "df.head()"
   ],
   "outputs": [
    {
     "output_type": "execute_result",
     "data": {
      "text/html": [
       "<div>\n",
       "<style scoped>\n",
       "    .dataframe tbody tr th:only-of-type {\n",
       "        vertical-align: middle;\n",
       "    }\n",
       "\n",
       "    .dataframe tbody tr th {\n",
       "        vertical-align: top;\n",
       "    }\n",
       "\n",
       "    .dataframe thead th {\n",
       "        text-align: right;\n",
       "    }\n",
       "</style>\n",
       "<table border=\"1\" class=\"dataframe\">\n",
       "  <thead>\n",
       "    <tr style=\"text-align: right;\">\n",
       "      <th></th>\n",
       "      <th>dengue.p_i_d</th>\n",
       "      <th>dengue.date_of_fever</th>\n",
       "      <th>dengue.residence</th>\n",
       "      <th>dengue.days</th>\n",
       "      <th>dengue.current_temp</th>\n",
       "      <th>dengue.wbc</th>\n",
       "      <th>dengue.servere_headche</th>\n",
       "      <th>dengue.pain_behind_the_eyes</th>\n",
       "      <th>dengue.joint_muscle_aches</th>\n",
       "      <th>dengue.metallic_taste_in_the_mouth</th>\n",
       "      <th>dengue.appetite_loss</th>\n",
       "      <th>dengue.addominal_pain</th>\n",
       "      <th>dengue.nausea_vomiting</th>\n",
       "      <th>dengue.diarrhoea</th>\n",
       "      <th>dengue.hemoglobin</th>\n",
       "      <th>dengue._hematocri</th>\n",
       "      <th>dengue.platelet</th>\n",
       "      <th>dengue.dengue</th>\n",
       "    </tr>\n",
       "  </thead>\n",
       "  <tbody>\n",
       "    <tr>\n",
       "      <th>0</th>\n",
       "      <td>P012</td>\n",
       "      <td>13-Jan</td>\n",
       "      <td>Bangalore</td>\n",
       "      <td>10 days</td>\n",
       "      <td>100.0</td>\n",
       "      <td>5.0</td>\n",
       "      <td>yes</td>\n",
       "      <td>no</td>\n",
       "      <td>no</td>\n",
       "      <td>yes</td>\n",
       "      <td>yes</td>\n",
       "      <td>yes</td>\n",
       "      <td>no</td>\n",
       "      <td>yes</td>\n",
       "      <td>15.0</td>\n",
       "      <td>NaN</td>\n",
       "      <td>140.0</td>\n",
       "      <td>yes</td>\n",
       "    </tr>\n",
       "    <tr>\n",
       "      <th>1</th>\n",
       "      <td>P011</td>\n",
       "      <td>13-Feb</td>\n",
       "      <td>New Delhi</td>\n",
       "      <td>4 days</td>\n",
       "      <td>104.0</td>\n",
       "      <td>1.0</td>\n",
       "      <td>no</td>\n",
       "      <td>yes</td>\n",
       "      <td>yes</td>\n",
       "      <td>no</td>\n",
       "      <td>no</td>\n",
       "      <td>no</td>\n",
       "      <td>no</td>\n",
       "      <td>no</td>\n",
       "      <td>9.0</td>\n",
       "      <td>22.0</td>\n",
       "      <td>80.0</td>\n",
       "      <td>no</td>\n",
       "    </tr>\n",
       "    <tr>\n",
       "      <th>2</th>\n",
       "      <td>P010</td>\n",
       "      <td>9-Jan</td>\n",
       "      <td>Jamica</td>\n",
       "      <td>5 days</td>\n",
       "      <td>104.0</td>\n",
       "      <td>5.0</td>\n",
       "      <td>NaN</td>\n",
       "      <td>no</td>\n",
       "      <td>no</td>\n",
       "      <td>yes</td>\n",
       "      <td>yes</td>\n",
       "      <td>yes</td>\n",
       "      <td>yes</td>\n",
       "      <td>no</td>\n",
       "      <td>NaN</td>\n",
       "      <td>NaN</td>\n",
       "      <td>120.0</td>\n",
       "      <td>yes</td>\n",
       "    </tr>\n",
       "    <tr>\n",
       "      <th>3</th>\n",
       "      <td>P009</td>\n",
       "      <td>12-Aug</td>\n",
       "      <td>Barbados</td>\n",
       "      <td>12 months</td>\n",
       "      <td>101.0</td>\n",
       "      <td>NaN</td>\n",
       "      <td>yes</td>\n",
       "      <td>yes</td>\n",
       "      <td>no</td>\n",
       "      <td>no</td>\n",
       "      <td>no</td>\n",
       "      <td>no</td>\n",
       "      <td>no</td>\n",
       "      <td>no</td>\n",
       "      <td>NaN</td>\n",
       "      <td>NaN</td>\n",
       "      <td>NaN</td>\n",
       "      <td>no</td>\n",
       "    </tr>\n",
       "    <tr>\n",
       "      <th>4</th>\n",
       "      <td>P008</td>\n",
       "      <td>12-Oct</td>\n",
       "      <td>St.Martin</td>\n",
       "      <td>3 days</td>\n",
       "      <td>101.0</td>\n",
       "      <td>NaN</td>\n",
       "      <td>yes</td>\n",
       "      <td>no</td>\n",
       "      <td>no</td>\n",
       "      <td>no</td>\n",
       "      <td>no</td>\n",
       "      <td>no</td>\n",
       "      <td>yes</td>\n",
       "      <td>no</td>\n",
       "      <td>NaN</td>\n",
       "      <td>NaN</td>\n",
       "      <td>NaN</td>\n",
       "      <td>no</td>\n",
       "    </tr>\n",
       "  </tbody>\n",
       "</table>\n",
       "</div>"
      ],
      "text/plain": [
       "  dengue.p_i_d dengue.date_of_fever dengue.residence dengue.days  \\\n",
       "0         P012               13-Jan        Bangalore     10 days   \n",
       "1         P011               13-Feb        New Delhi      4 days   \n",
       "2         P010                9-Jan           Jamica      5 days   \n",
       "3         P009               12-Aug         Barbados   12 months   \n",
       "4         P008               12-Oct        St.Martin      3 days   \n",
       "\n",
       "   dengue.current_temp  dengue.wbc dengue.servere_headche  \\\n",
       "0                100.0         5.0                    yes   \n",
       "1                104.0         1.0                     no   \n",
       "2                104.0         5.0                    NaN   \n",
       "3                101.0         NaN                    yes   \n",
       "4                101.0         NaN                    yes   \n",
       "\n",
       "  dengue.pain_behind_the_eyes dengue.joint_muscle_aches  \\\n",
       "0                          no                        no   \n",
       "1                         yes                       yes   \n",
       "2                          no                        no   \n",
       "3                         yes                        no   \n",
       "4                          no                        no   \n",
       "\n",
       "  dengue.metallic_taste_in_the_mouth dengue.appetite_loss  \\\n",
       "0                                yes                  yes   \n",
       "1                                 no                   no   \n",
       "2                                yes                  yes   \n",
       "3                                 no                   no   \n",
       "4                                 no                   no   \n",
       "\n",
       "  dengue.addominal_pain dengue.nausea_vomiting dengue.diarrhoea  \\\n",
       "0                   yes                     no              yes   \n",
       "1                    no                     no               no   \n",
       "2                   yes                    yes               no   \n",
       "3                    no                     no               no   \n",
       "4                    no                    yes               no   \n",
       "\n",
       "   dengue.hemoglobin  dengue._hematocri  dengue.platelet dengue.dengue  \n",
       "0               15.0                NaN            140.0           yes  \n",
       "1                9.0               22.0             80.0            no  \n",
       "2                NaN                NaN            120.0           yes  \n",
       "3                NaN                NaN              NaN            no  \n",
       "4                NaN                NaN              NaN            no  "
      ]
     },
     "metadata": {},
     "execution_count": 4
    }
   ],
   "metadata": {}
  },
  {
   "cell_type": "code",
   "execution_count": 5,
   "source": [
    "df.shape,df.info()"
   ],
   "outputs": [
    {
     "output_type": "stream",
     "name": "stdout",
     "text": [
      "<class 'pandas.core.frame.DataFrame'>\n",
      "RangeIndex: 108 entries, 0 to 107\n",
      "Data columns (total 18 columns):\n",
      " #   Column                              Non-Null Count  Dtype  \n",
      "---  ------                              --------------  -----  \n",
      " 0   dengue.p_i_d                        108 non-null    object \n",
      " 1   dengue.date_of_fever                108 non-null    object \n",
      " 2   dengue.residence                    108 non-null    object \n",
      " 3   dengue.days                         99 non-null     object \n",
      " 4   dengue.current_temp                 108 non-null    float64\n",
      " 5   dengue.wbc                          45 non-null     float64\n",
      " 6   dengue.servere_headche              90 non-null     object \n",
      " 7   dengue.pain_behind_the_eyes         108 non-null    object \n",
      " 8   dengue.joint_muscle_aches           99 non-null     object \n",
      " 9   dengue.metallic_taste_in_the_mouth  108 non-null    object \n",
      " 10  dengue.appetite_loss                108 non-null    object \n",
      " 11  dengue.addominal_pain               108 non-null    object \n",
      " 12  dengue.nausea_vomiting              108 non-null    object \n",
      " 13  dengue.diarrhoea                    108 non-null    object \n",
      " 14  dengue.hemoglobin                   36 non-null     float64\n",
      " 15  dengue._hematocri                   27 non-null     float64\n",
      " 16  dengue.platelet                     54 non-null     float64\n",
      " 17  dengue.dengue                       99 non-null     object \n",
      "dtypes: float64(5), object(13)\n",
      "memory usage: 15.3+ KB\n"
     ]
    },
    {
     "output_type": "execute_result",
     "data": {
      "text/plain": [
       "((108, 18), None)"
      ]
     },
     "metadata": {},
     "execution_count": 5
    }
   ],
   "metadata": {}
  },
  {
   "cell_type": "markdown",
   "source": [
    "### Let's find the missing values in data"
   ],
   "metadata": {}
  },
  {
   "cell_type": "code",
   "execution_count": 7,
   "source": [
    "for feature in df.columns:\r\n",
    "    print(f'{feature}  has {df[feature].isnull().mean() * 100}% null values') "
   ],
   "outputs": [
    {
     "output_type": "stream",
     "name": "stdout",
     "text": [
      "dengue.p_i_d  has 0.0% null values\n",
      "dengue.date_of_fever  has 0.0% null values\n",
      "dengue.residence  has 0.0% null values\n",
      "dengue.days  has 8.333333333333332% null values\n",
      "dengue.current_temp  has 0.0% null values\n",
      "dengue.wbc  has 58.333333333333336% null values\n",
      "dengue.servere_headche  has 16.666666666666664% null values\n",
      "dengue.pain_behind_the_eyes  has 0.0% null values\n",
      "dengue.joint_muscle_aches  has 8.333333333333332% null values\n",
      "dengue.metallic_taste_in_the_mouth  has 0.0% null values\n",
      "dengue.appetite_loss  has 0.0% null values\n",
      "dengue.addominal_pain  has 0.0% null values\n",
      "dengue.nausea_vomiting  has 0.0% null values\n",
      "dengue.diarrhoea  has 0.0% null values\n",
      "dengue.hemoglobin  has 66.66666666666666% null values\n",
      "dengue._hematocri  has 75.0% null values\n",
      "dengue.platelet  has 50.0% null values\n",
      "dengue.dengue  has 8.333333333333332% null values\n"
     ]
    }
   ],
   "metadata": {}
  },
  {
   "cell_type": "markdown",
   "source": [
    "Acc to above abservation there are some null values which will resolved in feature engineering"
   ],
   "metadata": {}
  },
  {
   "cell_type": "markdown",
   "source": [
    "### Let's find the numerical features in data"
   ],
   "metadata": {}
  },
  {
   "cell_type": "code",
   "execution_count": 12,
   "source": [
    "num_features = [feature for feature in df.columns if df[feature].dtype != 'O']\r\n",
    "df[num_features].head()"
   ],
   "outputs": [
    {
     "output_type": "execute_result",
     "data": {
      "text/html": [
       "<div>\n",
       "<style scoped>\n",
       "    .dataframe tbody tr th:only-of-type {\n",
       "        vertical-align: middle;\n",
       "    }\n",
       "\n",
       "    .dataframe tbody tr th {\n",
       "        vertical-align: top;\n",
       "    }\n",
       "\n",
       "    .dataframe thead th {\n",
       "        text-align: right;\n",
       "    }\n",
       "</style>\n",
       "<table border=\"1\" class=\"dataframe\">\n",
       "  <thead>\n",
       "    <tr style=\"text-align: right;\">\n",
       "      <th></th>\n",
       "      <th>dengue.current_temp</th>\n",
       "      <th>dengue.wbc</th>\n",
       "      <th>dengue.hemoglobin</th>\n",
       "      <th>dengue._hematocri</th>\n",
       "      <th>dengue.platelet</th>\n",
       "    </tr>\n",
       "  </thead>\n",
       "  <tbody>\n",
       "    <tr>\n",
       "      <th>0</th>\n",
       "      <td>100.0</td>\n",
       "      <td>5.0</td>\n",
       "      <td>15.0</td>\n",
       "      <td>NaN</td>\n",
       "      <td>140.0</td>\n",
       "    </tr>\n",
       "    <tr>\n",
       "      <th>1</th>\n",
       "      <td>104.0</td>\n",
       "      <td>1.0</td>\n",
       "      <td>9.0</td>\n",
       "      <td>22.0</td>\n",
       "      <td>80.0</td>\n",
       "    </tr>\n",
       "    <tr>\n",
       "      <th>2</th>\n",
       "      <td>104.0</td>\n",
       "      <td>5.0</td>\n",
       "      <td>NaN</td>\n",
       "      <td>NaN</td>\n",
       "      <td>120.0</td>\n",
       "    </tr>\n",
       "    <tr>\n",
       "      <th>3</th>\n",
       "      <td>101.0</td>\n",
       "      <td>NaN</td>\n",
       "      <td>NaN</td>\n",
       "      <td>NaN</td>\n",
       "      <td>NaN</td>\n",
       "    </tr>\n",
       "    <tr>\n",
       "      <th>4</th>\n",
       "      <td>101.0</td>\n",
       "      <td>NaN</td>\n",
       "      <td>NaN</td>\n",
       "      <td>NaN</td>\n",
       "      <td>NaN</td>\n",
       "    </tr>\n",
       "  </tbody>\n",
       "</table>\n",
       "</div>"
      ],
      "text/plain": [
       "   dengue.current_temp  dengue.wbc  dengue.hemoglobin  dengue._hematocri  \\\n",
       "0                100.0         5.0               15.0                NaN   \n",
       "1                104.0         1.0                9.0               22.0   \n",
       "2                104.0         5.0                NaN                NaN   \n",
       "3                101.0         NaN                NaN                NaN   \n",
       "4                101.0         NaN                NaN                NaN   \n",
       "\n",
       "   dengue.platelet  \n",
       "0            140.0  \n",
       "1             80.0  \n",
       "2            120.0  \n",
       "3              NaN  \n",
       "4              NaN  "
      ]
     },
     "metadata": {},
     "execution_count": 12
    }
   ],
   "metadata": {}
  },
  {
   "cell_type": "markdown",
   "source": [
    "### Now let's find the categorical features in data"
   ],
   "metadata": {}
  },
  {
   "cell_type": "code",
   "execution_count": 14,
   "source": [
    "cate_features = [feature for feature in df.columns if df[feature].dtype == 'O']\r\n",
    "df[cate_features].head()"
   ],
   "outputs": [
    {
     "output_type": "execute_result",
     "data": {
      "text/html": [
       "<div>\n",
       "<style scoped>\n",
       "    .dataframe tbody tr th:only-of-type {\n",
       "        vertical-align: middle;\n",
       "    }\n",
       "\n",
       "    .dataframe tbody tr th {\n",
       "        vertical-align: top;\n",
       "    }\n",
       "\n",
       "    .dataframe thead th {\n",
       "        text-align: right;\n",
       "    }\n",
       "</style>\n",
       "<table border=\"1\" class=\"dataframe\">\n",
       "  <thead>\n",
       "    <tr style=\"text-align: right;\">\n",
       "      <th></th>\n",
       "      <th>dengue.p_i_d</th>\n",
       "      <th>dengue.date_of_fever</th>\n",
       "      <th>dengue.residence</th>\n",
       "      <th>dengue.days</th>\n",
       "      <th>dengue.servere_headche</th>\n",
       "      <th>dengue.pain_behind_the_eyes</th>\n",
       "      <th>dengue.joint_muscle_aches</th>\n",
       "      <th>dengue.metallic_taste_in_the_mouth</th>\n",
       "      <th>dengue.appetite_loss</th>\n",
       "      <th>dengue.addominal_pain</th>\n",
       "      <th>dengue.nausea_vomiting</th>\n",
       "      <th>dengue.diarrhoea</th>\n",
       "      <th>dengue.dengue</th>\n",
       "    </tr>\n",
       "  </thead>\n",
       "  <tbody>\n",
       "    <tr>\n",
       "      <th>0</th>\n",
       "      <td>P012</td>\n",
       "      <td>13-Jan</td>\n",
       "      <td>Bangalore</td>\n",
       "      <td>10 days</td>\n",
       "      <td>yes</td>\n",
       "      <td>no</td>\n",
       "      <td>no</td>\n",
       "      <td>yes</td>\n",
       "      <td>yes</td>\n",
       "      <td>yes</td>\n",
       "      <td>no</td>\n",
       "      <td>yes</td>\n",
       "      <td>yes</td>\n",
       "    </tr>\n",
       "    <tr>\n",
       "      <th>1</th>\n",
       "      <td>P011</td>\n",
       "      <td>13-Feb</td>\n",
       "      <td>New Delhi</td>\n",
       "      <td>4 days</td>\n",
       "      <td>no</td>\n",
       "      <td>yes</td>\n",
       "      <td>yes</td>\n",
       "      <td>no</td>\n",
       "      <td>no</td>\n",
       "      <td>no</td>\n",
       "      <td>no</td>\n",
       "      <td>no</td>\n",
       "      <td>no</td>\n",
       "    </tr>\n",
       "    <tr>\n",
       "      <th>2</th>\n",
       "      <td>P010</td>\n",
       "      <td>9-Jan</td>\n",
       "      <td>Jamica</td>\n",
       "      <td>5 days</td>\n",
       "      <td>NaN</td>\n",
       "      <td>no</td>\n",
       "      <td>no</td>\n",
       "      <td>yes</td>\n",
       "      <td>yes</td>\n",
       "      <td>yes</td>\n",
       "      <td>yes</td>\n",
       "      <td>no</td>\n",
       "      <td>yes</td>\n",
       "    </tr>\n",
       "    <tr>\n",
       "      <th>3</th>\n",
       "      <td>P009</td>\n",
       "      <td>12-Aug</td>\n",
       "      <td>Barbados</td>\n",
       "      <td>12 months</td>\n",
       "      <td>yes</td>\n",
       "      <td>yes</td>\n",
       "      <td>no</td>\n",
       "      <td>no</td>\n",
       "      <td>no</td>\n",
       "      <td>no</td>\n",
       "      <td>no</td>\n",
       "      <td>no</td>\n",
       "      <td>no</td>\n",
       "    </tr>\n",
       "    <tr>\n",
       "      <th>4</th>\n",
       "      <td>P008</td>\n",
       "      <td>12-Oct</td>\n",
       "      <td>St.Martin</td>\n",
       "      <td>3 days</td>\n",
       "      <td>yes</td>\n",
       "      <td>no</td>\n",
       "      <td>no</td>\n",
       "      <td>no</td>\n",
       "      <td>no</td>\n",
       "      <td>no</td>\n",
       "      <td>yes</td>\n",
       "      <td>no</td>\n",
       "      <td>no</td>\n",
       "    </tr>\n",
       "  </tbody>\n",
       "</table>\n",
       "</div>"
      ],
      "text/plain": [
       "  dengue.p_i_d dengue.date_of_fever dengue.residence dengue.days  \\\n",
       "0         P012               13-Jan        Bangalore     10 days   \n",
       "1         P011               13-Feb        New Delhi      4 days   \n",
       "2         P010                9-Jan           Jamica      5 days   \n",
       "3         P009               12-Aug         Barbados   12 months   \n",
       "4         P008               12-Oct        St.Martin      3 days   \n",
       "\n",
       "  dengue.servere_headche dengue.pain_behind_the_eyes  \\\n",
       "0                    yes                          no   \n",
       "1                     no                         yes   \n",
       "2                    NaN                          no   \n",
       "3                    yes                         yes   \n",
       "4                    yes                          no   \n",
       "\n",
       "  dengue.joint_muscle_aches dengue.metallic_taste_in_the_mouth  \\\n",
       "0                        no                                yes   \n",
       "1                       yes                                 no   \n",
       "2                        no                                yes   \n",
       "3                        no                                 no   \n",
       "4                        no                                 no   \n",
       "\n",
       "  dengue.appetite_loss dengue.addominal_pain dengue.nausea_vomiting  \\\n",
       "0                  yes                   yes                     no   \n",
       "1                   no                    no                     no   \n",
       "2                  yes                   yes                    yes   \n",
       "3                   no                    no                     no   \n",
       "4                   no                    no                    yes   \n",
       "\n",
       "  dengue.diarrhoea dengue.dengue  \n",
       "0              yes           yes  \n",
       "1               no            no  \n",
       "2               no           yes  \n",
       "3               no            no  \n",
       "4               no            no  "
      ]
     },
     "metadata": {},
     "execution_count": 14
    }
   ],
   "metadata": {}
  },
  {
   "cell_type": "markdown",
   "source": [
    "As above observation p_i_d ,days,date_of_fever not require for prediction so we will drop it"
   ],
   "metadata": {}
  },
  {
   "cell_type": "markdown",
   "source": [
    "### Let's check outiers in num features"
   ],
   "metadata": {}
  },
  {
   "cell_type": "code",
   "execution_count": 24,
   "source": [
    "for feature in num_features:\r\n",
    "    sns.boxplot(data=df[feature])\r\n",
    "    plt.title(feature)\r\n",
    "    plt.show()"
   ],
   "outputs": [
    {
     "output_type": "display_data",
     "data": {
      "image/png": "[encoded data removed]",
      "text/plain": [
       "<Figure size 432x288 with 1 Axes>"
      ]
     },
     "metadata": {
      "needs_background": "light"
     }
    },
    {
     "output_type": "display_data",
     "data": {
      "image/png": "[encoded data removed]",
      "text/plain": [
       "<Figure size 432x288 with 1 Axes>"
      ]
     },
     "metadata": {
      "needs_background": "light"
     }
    },
    {
     "output_type": "display_data",
     "data": {
      "image/png": "[encoded data removed]",
      "text/plain": [
       "<Figure size 432x288 with 1 Axes>"
      ]
     },
     "metadata": {
      "needs_background": "light"
     }
    },
    {
     "output_type": "display_data",
     "data": {
      "image/png": "[encoded data removed]",
      "text/plain": [
       "<Figure size 432x288 with 1 Axes>"
      ]
     },
     "metadata": {
      "needs_background": "light"
     }
    },
    {
     "output_type": "display_data",
     "data": {
      "image/png": "[encoded data removed]",
      "text/plain": [
       "<Figure size 432x288 with 1 Axes>"
      ]
     },
     "metadata": {
      "needs_background": "light"
     }
    }
   ],
   "metadata": {}
  },
  {
   "cell_type": "markdown",
   "source": [
    "As above observation there is no kind od ouliers"
   ],
   "metadata": {}
  },
  {
   "cell_type": "markdown",
   "source": [
    "### So from analysis we have to do in feature engineering that is\r\n",
    "1. Changing feature names for simplicity\r\n",
    "2. Handle missing values\r\n",
    "3. Drop unnecessary features\r\n",
    "4. Encode categorical features\r\n",
    "5. Save cooked data into file for further work"
   ],
   "metadata": {}
  }
 ],
 "metadata": {
  "orig_nbformat": 4,
  "language_info": {
   "name": "python",
   "version": "3.9.7",
   "mimetype": "text/x-python",
   "codemirror_mode": {
    "name": "ipython",
    "version": 3
   },
   "pygments_lexer": "ipython3",
   "nbconvert_exporter": "python",
   "file_extension": ".py"
  },
  "kernelspec": {
   "name": "python3",
   "display_name": "Python 3.9.7 64-bit ('ml_env': venv)"
  },
  "interpreter": {
   "hash": "79f5e497d0a85bd031b3469f6dc44e6d6b6c564dd58dded82a13f176f1a12330"
  }
 },
 "nbformat": 4,
 "nbformat_minor": 2
}