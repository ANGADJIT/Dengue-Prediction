{
 "cells": [
  {
   "cell_type": "markdown",
   "source": [
    "# Feature Engineering On Dengue Dataset"
   ],
   "metadata": {}
  },
  {
   "cell_type": "markdown",
   "source": [
    "### Importing important libraries"
   ],
   "metadata": {}
  },
  {
   "cell_type": "code",
   "execution_count": 1,
   "source": [
    "import numpy as np\r\n",
    "import pandas as pd\r\n",
    "import matplotlib.pyplot as plt\r\n",
    "import seaborn as sns"
   ],
   "outputs": [],
   "metadata": {}
  },
  {
   "cell_type": "markdown",
   "source": [
    "### Load data into dataframe"
   ],
   "metadata": {}
  },
  {
   "cell_type": "code",
   "execution_count": 4,
   "source": [
    "df = pd.read_csv('../data/raw_data/dengue.csv')\r\n",
    "df.head()"
   ],
   "outputs": [
    {
     "output_type": "execute_result",
     "data": {
      "text/html": [
       "<div>\n",
       "<style scoped>\n",
       "    .dataframe tbody tr th:only-of-type {\n",
       "        vertical-align: middle;\n",
       "    }\n",
       "\n",
       "    .dataframe tbody tr th {\n",
       "        vertical-align: top;\n",
       "    }\n",
       "\n",
       "    .dataframe thead th {\n",
       "        text-align: right;\n",
       "    }\n",
       "</style>\n",
       "<table border=\"1\" class=\"dataframe\">\n",
       "  <thead>\n",
       "    <tr style=\"text-align: right;\">\n",
       "      <th></th>\n",
       "      <th>dengue.p_i_d</th>\n",
       "      <th>dengue.date_of_fever</th>\n",
       "      <th>dengue.residence</th>\n",
       "      <th>dengue.days</th>\n",
       "      <th>dengue.current_temp</th>\n",
       "      <th>dengue.wbc</th>\n",
       "      <th>dengue.servere_headche</th>\n",
       "      <th>dengue.pain_behind_the_eyes</th>\n",
       "      <th>dengue.joint_muscle_aches</th>\n",
       "      <th>dengue.metallic_taste_in_the_mouth</th>\n",
       "      <th>dengue.appetite_loss</th>\n",
       "      <th>dengue.addominal_pain</th>\n",
       "      <th>dengue.nausea_vomiting</th>\n",
       "      <th>dengue.diarrhoea</th>\n",
       "      <th>dengue.hemoglobin</th>\n",
       "      <th>dengue._hematocri</th>\n",
       "      <th>dengue.platelet</th>\n",
       "      <th>dengue.dengue</th>\n",
       "    </tr>\n",
       "  </thead>\n",
       "  <tbody>\n",
       "    <tr>\n",
       "      <th>0</th>\n",
       "      <td>P012</td>\n",
       "      <td>13-Jan</td>\n",
       "      <td>Bangalore</td>\n",
       "      <td>10 days</td>\n",
       "      <td>100.0</td>\n",
       "      <td>5.0</td>\n",
       "      <td>yes</td>\n",
       "      <td>no</td>\n",
       "      <td>no</td>\n",
       "      <td>yes</td>\n",
       "      <td>yes</td>\n",
       "      <td>yes</td>\n",
       "      <td>no</td>\n",
       "      <td>yes</td>\n",
       "      <td>15.0</td>\n",
       "      <td>NaN</td>\n",
       "      <td>140.0</td>\n",
       "      <td>yes</td>\n",
       "    </tr>\n",
       "    <tr>\n",
       "      <th>1</th>\n",
       "      <td>P011</td>\n",
       "      <td>13-Feb</td>\n",
       "      <td>New Delhi</td>\n",
       "      <td>4 days</td>\n",
       "      <td>104.0</td>\n",
       "      <td>1.0</td>\n",
       "      <td>no</td>\n",
       "      <td>yes</td>\n",
       "      <td>yes</td>\n",
       "      <td>no</td>\n",
       "      <td>no</td>\n",
       "      <td>no</td>\n",
       "      <td>no</td>\n",
       "      <td>no</td>\n",
       "      <td>9.0</td>\n",
       "      <td>22.0</td>\n",
       "      <td>80.0</td>\n",
       "      <td>no</td>\n",
       "    </tr>\n",
       "    <tr>\n",
       "      <th>2</th>\n",
       "      <td>P010</td>\n",
       "      <td>9-Jan</td>\n",
       "      <td>Jamica</td>\n",
       "      <td>5 days</td>\n",
       "      <td>104.0</td>\n",
       "      <td>5.0</td>\n",
       "      <td>NaN</td>\n",
       "      <td>no</td>\n",
       "      <td>no</td>\n",
       "      <td>yes</td>\n",
       "      <td>yes</td>\n",
       "      <td>yes</td>\n",
       "      <td>yes</td>\n",
       "      <td>no</td>\n",
       "      <td>NaN</td>\n",
       "      <td>NaN</td>\n",
       "      <td>120.0</td>\n",
       "      <td>yes</td>\n",
       "    </tr>\n",
       "    <tr>\n",
       "      <th>3</th>\n",
       "      <td>P009</td>\n",
       "      <td>12-Aug</td>\n",
       "      <td>Barbados</td>\n",
       "      <td>12 months</td>\n",
       "      <td>101.0</td>\n",
       "      <td>NaN</td>\n",
       "      <td>yes</td>\n",
       "      <td>yes</td>\n",
       "      <td>no</td>\n",
       "      <td>no</td>\n",
       "      <td>no</td>\n",
       "      <td>no</td>\n",
       "      <td>no</td>\n",
       "      <td>no</td>\n",
       "      <td>NaN</td>\n",
       "      <td>NaN</td>\n",
       "      <td>NaN</td>\n",
       "      <td>no</td>\n",
       "    </tr>\n",
       "    <tr>\n",
       "      <th>4</th>\n",
       "      <td>P008</td>\n",
       "      <td>12-Oct</td>\n",
       "      <td>St.Martin</td>\n",
       "      <td>3 days</td>\n",
       "      <td>101.0</td>\n",
       "      <td>NaN</td>\n",
       "      <td>yes</td>\n",
       "      <td>no</td>\n",
       "      <td>no</td>\n",
       "      <td>no</td>\n",
       "      <td>no</td>\n",
       "      <td>no</td>\n",
       "      <td>yes</td>\n",
       "      <td>no</td>\n",
       "      <td>NaN</td>\n",
       "      <td>NaN</td>\n",
       "      <td>NaN</td>\n",
       "      <td>no</td>\n",
       "    </tr>\n",
       "  </tbody>\n",
       "</table>\n",
       "</div>"
      ],
      "text/plain": [
       "  dengue.p_i_d dengue.date_of_fever dengue.residence dengue.days  \\\n",
       "0         P012               13-Jan        Bangalore     10 days   \n",
       "1         P011               13-Feb        New Delhi      4 days   \n",
       "2         P010                9-Jan           Jamica      5 days   \n",
       "3         P009               12-Aug         Barbados   12 months   \n",
       "4         P008               12-Oct        St.Martin      3 days   \n",
       "\n",
       "   dengue.current_temp  dengue.wbc dengue.servere_headche  \\\n",
       "0                100.0         5.0                    yes   \n",
       "1                104.0         1.0                     no   \n",
       "2                104.0         5.0                    NaN   \n",
       "3                101.0         NaN                    yes   \n",
       "4                101.0         NaN                    yes   \n",
       "\n",
       "  dengue.pain_behind_the_eyes dengue.joint_muscle_aches  \\\n",
       "0                          no                        no   \n",
       "1                         yes                       yes   \n",
       "2                          no                        no   \n",
       "3                         yes                        no   \n",
       "4                          no                        no   \n",
       "\n",
       "  dengue.metallic_taste_in_the_mouth dengue.appetite_loss  \\\n",
       "0                                yes                  yes   \n",
       "1                                 no                   no   \n",
       "2                                yes                  yes   \n",
       "3                                 no                   no   \n",
       "4                                 no                   no   \n",
       "\n",
       "  dengue.addominal_pain dengue.nausea_vomiting dengue.diarrhoea  \\\n",
       "0                   yes                     no              yes   \n",
       "1                    no                     no               no   \n",
       "2                   yes                    yes               no   \n",
       "3                    no                     no               no   \n",
       "4                    no                    yes               no   \n",
       "\n",
       "   dengue.hemoglobin  dengue._hematocri  dengue.platelet dengue.dengue  \n",
       "0               15.0                NaN            140.0           yes  \n",
       "1                9.0               22.0             80.0            no  \n",
       "2                NaN                NaN            120.0           yes  \n",
       "3                NaN                NaN              NaN            no  \n",
       "4                NaN                NaN              NaN            no  "
      ]
     },
     "metadata": {},
     "execution_count": 4
    }
   ],
   "metadata": {}
  },
  {
   "cell_type": "markdown",
   "source": [
    "### Changing feature names for simplicity"
   ],
   "metadata": {}
  },
  {
   "cell_type": "code",
   "execution_count": 5,
   "source": [
    "clean_feature_names = [feature.split('.')[1] for feature in df.columns]\r\n",
    "clean_feature_names"
   ],
   "outputs": [
    {
     "output_type": "execute_result",
     "data": {
      "text/plain": [
       "['p_i_d',\n",
       " 'date_of_fever',\n",
       " 'residence',\n",
       " 'days',\n",
       " 'current_temp',\n",
       " 'wbc',\n",
       " 'servere_headche',\n",
       " 'pain_behind_the_eyes',\n",
       " 'joint_muscle_aches',\n",
       " 'metallic_taste_in_the_mouth',\n",
       " 'appetite_loss',\n",
       " 'addominal_pain',\n",
       " 'nausea_vomiting',\n",
       " 'diarrhoea',\n",
       " 'hemoglobin',\n",
       " '_hematocri',\n",
       " 'platelet',\n",
       " 'dengue']"
      ]
     },
     "metadata": {},
     "execution_count": 5
    }
   ],
   "metadata": {}
  },
  {
   "cell_type": "code",
   "execution_count": 7,
   "source": [
    "df.columns = clean_feature_names\r\n",
    "df.head()"
   ],
   "outputs": [
    {
     "output_type": "execute_result",
     "data": {
      "text/html": [
       "<div>\n",
       "<style scoped>\n",
       "    .dataframe tbody tr th:only-of-type {\n",
       "        vertical-align: middle;\n",
       "    }\n",
       "\n",
       "    .dataframe tbody tr th {\n",
       "        vertical-align: top;\n",
       "    }\n",
       "\n",
       "    .dataframe thead th {\n",
       "        text-align: right;\n",
       "    }\n",
       "</style>\n",
       "<table border=\"1\" class=\"dataframe\">\n",
       "  <thead>\n",
       "    <tr style=\"text-align: right;\">\n",
       "      <th></th>\n",
       "      <th>p_i_d</th>\n",
       "      <th>date_of_fever</th>\n",
       "      <th>residence</th>\n",
       "      <th>days</th>\n",
       "      <th>current_temp</th>\n",
       "      <th>wbc</th>\n",
       "      <th>servere_headche</th>\n",
       "      <th>pain_behind_the_eyes</th>\n",
       "      <th>joint_muscle_aches</th>\n",
       "      <th>metallic_taste_in_the_mouth</th>\n",
       "      <th>appetite_loss</th>\n",
       "      <th>addominal_pain</th>\n",
       "      <th>nausea_vomiting</th>\n",
       "      <th>diarrhoea</th>\n",
       "      <th>hemoglobin</th>\n",
       "      <th>_hematocri</th>\n",
       "      <th>platelet</th>\n",
       "      <th>dengue</th>\n",
       "    </tr>\n",
       "  </thead>\n",
       "  <tbody>\n",
       "    <tr>\n",
       "      <th>0</th>\n",
       "      <td>P012</td>\n",
       "      <td>13-Jan</td>\n",
       "      <td>Bangalore</td>\n",
       "      <td>10 days</td>\n",
       "      <td>100.0</td>\n",
       "      <td>5.0</td>\n",
       "      <td>yes</td>\n",
       "      <td>no</td>\n",
       "      <td>no</td>\n",
       "      <td>yes</td>\n",
       "      <td>yes</td>\n",
       "      <td>yes</td>\n",
       "      <td>no</td>\n",
       "      <td>yes</td>\n",
       "      <td>15.0</td>\n",
       "      <td>NaN</td>\n",
       "      <td>140.0</td>\n",
       "      <td>yes</td>\n",
       "    </tr>\n",
       "    <tr>\n",
       "      <th>1</th>\n",
       "      <td>P011</td>\n",
       "      <td>13-Feb</td>\n",
       "      <td>New Delhi</td>\n",
       "      <td>4 days</td>\n",
       "      <td>104.0</td>\n",
       "      <td>1.0</td>\n",
       "      <td>no</td>\n",
       "      <td>yes</td>\n",
       "      <td>yes</td>\n",
       "      <td>no</td>\n",
       "      <td>no</td>\n",
       "      <td>no</td>\n",
       "      <td>no</td>\n",
       "      <td>no</td>\n",
       "      <td>9.0</td>\n",
       "      <td>22.0</td>\n",
       "      <td>80.0</td>\n",
       "      <td>no</td>\n",
       "    </tr>\n",
       "    <tr>\n",
       "      <th>2</th>\n",
       "      <td>P010</td>\n",
       "      <td>9-Jan</td>\n",
       "      <td>Jamica</td>\n",
       "      <td>5 days</td>\n",
       "      <td>104.0</td>\n",
       "      <td>5.0</td>\n",
       "      <td>NaN</td>\n",
       "      <td>no</td>\n",
       "      <td>no</td>\n",
       "      <td>yes</td>\n",
       "      <td>yes</td>\n",
       "      <td>yes</td>\n",
       "      <td>yes</td>\n",
       "      <td>no</td>\n",
       "      <td>NaN</td>\n",
       "      <td>NaN</td>\n",
       "      <td>120.0</td>\n",
       "      <td>yes</td>\n",
       "    </tr>\n",
       "    <tr>\n",
       "      <th>3</th>\n",
       "      <td>P009</td>\n",
       "      <td>12-Aug</td>\n",
       "      <td>Barbados</td>\n",
       "      <td>12 months</td>\n",
       "      <td>101.0</td>\n",
       "      <td>NaN</td>\n",
       "      <td>yes</td>\n",
       "      <td>yes</td>\n",
       "      <td>no</td>\n",
       "      <td>no</td>\n",
       "      <td>no</td>\n",
       "      <td>no</td>\n",
       "      <td>no</td>\n",
       "      <td>no</td>\n",
       "      <td>NaN</td>\n",
       "      <td>NaN</td>\n",
       "      <td>NaN</td>\n",
       "      <td>no</td>\n",
       "    </tr>\n",
       "    <tr>\n",
       "      <th>4</th>\n",
       "      <td>P008</td>\n",
       "      <td>12-Oct</td>\n",
       "      <td>St.Martin</td>\n",
       "      <td>3 days</td>\n",
       "      <td>101.0</td>\n",
       "      <td>NaN</td>\n",
       "      <td>yes</td>\n",
       "      <td>no</td>\n",
       "      <td>no</td>\n",
       "      <td>no</td>\n",
       "      <td>no</td>\n",
       "      <td>no</td>\n",
       "      <td>yes</td>\n",
       "      <td>no</td>\n",
       "      <td>NaN</td>\n",
       "      <td>NaN</td>\n",
       "      <td>NaN</td>\n",
       "      <td>no</td>\n",
       "    </tr>\n",
       "  </tbody>\n",
       "</table>\n",
       "</div>"
      ],
      "text/plain": [
       "  p_i_d date_of_fever  residence       days  current_temp  wbc  \\\n",
       "0  P012        13-Jan  Bangalore    10 days         100.0  5.0   \n",
       "1  P011        13-Feb  New Delhi     4 days         104.0  1.0   \n",
       "2  P010         9-Jan     Jamica     5 days         104.0  5.0   \n",
       "3  P009        12-Aug   Barbados  12 months         101.0  NaN   \n",
       "4  P008        12-Oct  St.Martin     3 days         101.0  NaN   \n",
       "\n",
       "  servere_headche pain_behind_the_eyes joint_muscle_aches  \\\n",
       "0             yes                   no                 no   \n",
       "1              no                  yes                yes   \n",
       "2             NaN                   no                 no   \n",
       "3             yes                  yes                 no   \n",
       "4             yes                   no                 no   \n",
       "\n",
       "  metallic_taste_in_the_mouth appetite_loss addominal_pain nausea_vomiting  \\\n",
       "0                         yes           yes            yes              no   \n",
       "1                          no            no             no              no   \n",
       "2                         yes           yes            yes             yes   \n",
       "3                          no            no             no              no   \n",
       "4                          no            no             no             yes   \n",
       "\n",
       "  diarrhoea  hemoglobin  _hematocri  platelet dengue  \n",
       "0       yes        15.0         NaN     140.0    yes  \n",
       "1        no         9.0        22.0      80.0     no  \n",
       "2        no         NaN         NaN     120.0    yes  \n",
       "3        no         NaN         NaN       NaN     no  \n",
       "4        no         NaN         NaN       NaN     no  "
      ]
     },
     "metadata": {},
     "execution_count": 7
    }
   ],
   "metadata": {}
  },
  {
   "cell_type": "markdown",
   "source": [
    "### Handling missing values"
   ],
   "metadata": {}
  },
  {
   "cell_type": "code",
   "execution_count": 23,
   "source": [
    "### for num features\r\n",
    "num_nan_features = [feature for feature in df.columns if df[feature].dtype != 'O' and df[feature].isnull().sum() > 1]\r\n",
    "num_nan_features"
   ],
   "outputs": [
    {
     "output_type": "execute_result",
     "data": {
      "text/plain": [
       "[]"
      ]
     },
     "metadata": {},
     "execution_count": 23
    }
   ],
   "metadata": {}
  },
  {
   "cell_type": "code",
   "execution_count": 11,
   "source": [
    "for feature in num_nan_features:\r\n",
    "    median = df[feature].median()\r\n",
    "\r\n",
    "    df[feature].fillna(value=median,inplace=True)"
   ],
   "outputs": [],
   "metadata": {}
  },
  {
   "cell_type": "code",
   "execution_count": 14,
   "source": [
    "df[num_nan_features].isnull().sum()"
   ],
   "outputs": [
    {
     "output_type": "execute_result",
     "data": {
      "text/plain": [
       "wbc           0\n",
       "hemoglobin    0\n",
       "_hematocri    0\n",
       "platelet      0\n",
       "dtype: int64"
      ]
     },
     "metadata": {},
     "execution_count": 14
    }
   ],
   "metadata": {}
  },
  {
   "cell_type": "markdown",
   "source": [
    "### Drop unnecessary features"
   ],
   "metadata": {}
  },
  {
   "cell_type": "code",
   "execution_count": 18,
   "source": [
    "unnessary_features = ['days','residence','p_i_d','date_of_fever']\r\n",
    "df.drop(columns=unnessary_features,inplace=True)"
   ],
   "outputs": [],
   "metadata": {}
  },
  {
   "cell_type": "code",
   "execution_count": 27,
   "source": [
    "### Now for categorical features\r\n",
    "cate_nan_features = [feature for feature in df.columns if df[feature].dtype == 'O' and df[feature].isnull().sum() > 1]\r\n",
    "cate_nan_features"
   ],
   "outputs": [
    {
     "output_type": "execute_result",
     "data": {
      "text/plain": [
       "['servere_headche', 'joint_muscle_aches', 'dengue']"
      ]
     },
     "metadata": {},
     "execution_count": 27
    }
   ],
   "metadata": {}
  },
  {
   "cell_type": "code",
   "execution_count": 34,
   "source": [
    "for feature in cate_nan_features:\r\n",
    "    mode = df[feature].mode()\r\n",
    "\r\n",
    "    df[feature] = np.where(df[feature].isnull(),mode,df[feature])\r\n",
    "\r\n",
    "df[cate_nan_features].isnull().sum()"
   ],
   "outputs": [
    {
     "output_type": "execute_result",
     "data": {
      "text/plain": [
       "servere_headche       0\n",
       "joint_muscle_aches    0\n",
       "dengue                0\n",
       "dtype: int64"
      ]
     },
     "metadata": {},
     "execution_count": 34
    }
   ],
   "metadata": {}
  },
  {
   "cell_type": "markdown",
   "source": [
    "### Let's encode categorical features"
   ],
   "metadata": {}
  },
  {
   "cell_type": "code",
   "execution_count": 38,
   "source": [
    "from sklearn.preprocessing import LabelEncoder\r\n",
    "encoder = LabelEncoder()"
   ],
   "outputs": [],
   "metadata": {}
  },
  {
   "cell_type": "code",
   "execution_count": 37,
   "source": [
    "cate_features = [feature for feature in df.columns if df[feature].dtype == 'O']\r\n",
    "cate_features"
   ],
   "outputs": [
    {
     "output_type": "execute_result",
     "data": {
      "text/plain": [
       "['servere_headche',\n",
       " 'pain_behind_the_eyes',\n",
       " 'joint_muscle_aches',\n",
       " 'metallic_taste_in_the_mouth',\n",
       " 'appetite_loss',\n",
       " 'addominal_pain',\n",
       " 'nausea_vomiting',\n",
       " 'diarrhoea',\n",
       " 'dengue']"
      ]
     },
     "metadata": {},
     "execution_count": 37
    }
   ],
   "metadata": {}
  },
  {
   "cell_type": "code",
   "execution_count": 39,
   "source": [
    "for feature in cate_features:\r\n",
    "    df[feature] = encoder.fit_transform(df[feature])\r\n",
    "\r\n",
    "df[cate_features].head()"
   ],
   "outputs": [
    {
     "output_type": "execute_result",
     "data": {
      "text/html": [
       "<div>\n",
       "<style scoped>\n",
       "    .dataframe tbody tr th:only-of-type {\n",
       "        vertical-align: middle;\n",
       "    }\n",
       "\n",
       "    .dataframe tbody tr th {\n",
       "        vertical-align: top;\n",
       "    }\n",
       "\n",
       "    .dataframe thead th {\n",
       "        text-align: right;\n",
       "    }\n",
       "</style>\n",
       "<table border=\"1\" class=\"dataframe\">\n",
       "  <thead>\n",
       "    <tr style=\"text-align: right;\">\n",
       "      <th></th>\n",
       "      <th>servere_headche</th>\n",
       "      <th>pain_behind_the_eyes</th>\n",
       "      <th>joint_muscle_aches</th>\n",
       "      <th>metallic_taste_in_the_mouth</th>\n",
       "      <th>appetite_loss</th>\n",
       "      <th>addominal_pain</th>\n",
       "      <th>nausea_vomiting</th>\n",
       "      <th>diarrhoea</th>\n",
       "      <th>dengue</th>\n",
       "    </tr>\n",
       "  </thead>\n",
       "  <tbody>\n",
       "    <tr>\n",
       "      <th>0</th>\n",
       "      <td>1</td>\n",
       "      <td>0</td>\n",
       "      <td>0</td>\n",
       "      <td>1</td>\n",
       "      <td>1</td>\n",
       "      <td>1</td>\n",
       "      <td>0</td>\n",
       "      <td>1</td>\n",
       "      <td>1</td>\n",
       "    </tr>\n",
       "    <tr>\n",
       "      <th>1</th>\n",
       "      <td>0</td>\n",
       "      <td>1</td>\n",
       "      <td>1</td>\n",
       "      <td>0</td>\n",
       "      <td>0</td>\n",
       "      <td>0</td>\n",
       "      <td>0</td>\n",
       "      <td>0</td>\n",
       "      <td>0</td>\n",
       "    </tr>\n",
       "    <tr>\n",
       "      <th>2</th>\n",
       "      <td>1</td>\n",
       "      <td>0</td>\n",
       "      <td>0</td>\n",
       "      <td>1</td>\n",
       "      <td>1</td>\n",
       "      <td>1</td>\n",
       "      <td>1</td>\n",
       "      <td>0</td>\n",
       "      <td>1</td>\n",
       "    </tr>\n",
       "    <tr>\n",
       "      <th>3</th>\n",
       "      <td>1</td>\n",
       "      <td>1</td>\n",
       "      <td>0</td>\n",
       "      <td>0</td>\n",
       "      <td>0</td>\n",
       "      <td>0</td>\n",
       "      <td>0</td>\n",
       "      <td>0</td>\n",
       "      <td>0</td>\n",
       "    </tr>\n",
       "    <tr>\n",
       "      <th>4</th>\n",
       "      <td>1</td>\n",
       "      <td>0</td>\n",
       "      <td>0</td>\n",
       "      <td>0</td>\n",
       "      <td>0</td>\n",
       "      <td>0</td>\n",
       "      <td>1</td>\n",
       "      <td>0</td>\n",
       "      <td>0</td>\n",
       "    </tr>\n",
       "  </tbody>\n",
       "</table>\n",
       "</div>"
      ],
      "text/plain": [
       "   servere_headche  pain_behind_the_eyes  joint_muscle_aches  \\\n",
       "0                1                     0                   0   \n",
       "1                0                     1                   1   \n",
       "2                1                     0                   0   \n",
       "3                1                     1                   0   \n",
       "4                1                     0                   0   \n",
       "\n",
       "   metallic_taste_in_the_mouth  appetite_loss  addominal_pain  \\\n",
       "0                            1              1               1   \n",
       "1                            0              0               0   \n",
       "2                            1              1               1   \n",
       "3                            0              0               0   \n",
       "4                            0              0               0   \n",
       "\n",
       "   nausea_vomiting  diarrhoea  dengue  \n",
       "0                0          1       1  \n",
       "1                0          0       0  \n",
       "2                1          0       1  \n",
       "3                0          0       0  \n",
       "4                1          0       0  "
      ]
     },
     "metadata": {},
     "execution_count": 39
    }
   ],
   "metadata": {}
  },
  {
   "cell_type": "markdown",
   "source": [
    "### Let's save the cooked data into file"
   ],
   "metadata": {}
  },
  {
   "cell_type": "code",
   "execution_count": 40,
   "source": [
    "df.to_csv('../data/cooked_data/dengue(cooked).csv',index=False)"
   ],
   "outputs": [],
   "metadata": {}
  },
  {
   "cell_type": "markdown",
   "source": [
    "Now we cooked the all data now we apply feature selection on it"
   ],
   "metadata": {}
  }
 ],
 "metadata": {
  "orig_nbformat": 4,
  "language_info": {
   "name": "python",
   "version": "3.9.7",
   "mimetype": "text/x-python",
   "codemirror_mode": {
    "name": "ipython",
    "version": 3
   },
   "pygments_lexer": "ipython3",
   "nbconvert_exporter": "python",
   "file_extension": ".py"
  },
  "kernelspec": {
   "name": "python3",
   "display_name": "Python 3.9.7 64-bit ('ml_env': venv)"
  },
  "interpreter": {
   "hash": "79f5e497d0a85bd031b3469f6dc44e6d6b6c564dd58dded82a13f176f1a12330"
  }
 },
 "nbformat": 4,
 "nbformat_minor": 2
}